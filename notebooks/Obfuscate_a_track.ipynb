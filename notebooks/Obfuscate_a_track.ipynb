{
 "cells": [
  {
   "cell_type": "code",
   "execution_count": null,
   "id": "3f457688",
   "metadata": {},
   "outputs": [],
   "source": [
    "%load_ext autoreload\n",
    "%autoreload 2"
   ]
  },
  {
   "cell_type": "code",
   "execution_count": null,
   "id": "2b3d2c4c",
   "metadata": {},
   "outputs": [],
   "source": [
    "from collections import OrderedDict\n",
    "import numpy as np\n",
    "import pandas as pd\n",
    "from tqdm import tqdm_notebook as tqdm \n",
    "from audioId.transformations.transformation import MyTransformer, NoiseTransformer"
   ]
  },
  {
   "cell_type": "code",
   "execution_count": null,
   "id": "9c903abd",
   "metadata": {},
   "outputs": [],
   "source": [
    "INPUT_DIR = './../data/sample_tracks/'\n",
    "OUTPUT_DIR = './../data/transformed_test/'\n",
    "\n",
    "obfuscation_types = OrderedDict({\n",
    "                     'lowpass': [1000, 1500, 2000, 3000],\n",
    "                     'highpass':  [500, 700, 1000, 1500],\n",
    "                     'pitch': [0.8, 0.85, 0.9, 1.05, 1.15, 1.2],\n",
    "                     'tempo': [0.8, 0.85, 0.9, 1.05, 1.15, 1.2],\n",
    "                     'whitenoise': [0.05, 0.1, 0.2, 0.4],\n",
    "                     'pinknoise': [0.05, 0.1, 0.2, 0.4],\n",
    "                     'reverb': [40, 70, 100]})\n",
    "names = OrderedDict({'lowpass': 'l',\n",
    "                     'highpass':  'h',\n",
    "                     'pitch': 'p',\n",
    "                     'tempo': 't',\n",
    "                     'whitenoise': 'wN',\n",
    "                     'pinknoise': 'pN',\n",
    "                     'reverb': 'r'})"
   ]
  },
  {
   "cell_type": "code",
   "execution_count": null,
   "id": "b92541ab",
   "metadata": {},
   "outputs": [],
   "source": [
    "def transform_row(row):\n",
    "    in_song, out_song = row.id1, row.id2\n",
    "    transformer = get_transformer(row.obfuscation_type, row.degree)\n",
    "    return transformer.apply(in_song, INPUT_DIR, out_song, OUTPUT_DIR)\n",
    "\n",
    "def get_transformer(obfuscation_type, degree):\n",
    "    if obfuscation_type in ['whitenoise', 'pinknoise']:\n",
    "        return NoiseTransformer(degree = degree, noise_type = obfuscation_type)\n",
    "    else:\n",
    "        m = MyTransformer()\n",
    "        fct = getattr(m, obfuscation_type)\n",
    "        return fct(degree)"
   ]
  },
  {
   "cell_type": "code",
   "execution_count": null,
   "id": "1d99f296",
   "metadata": {
    "scrolled": false
   },
   "outputs": [],
   "source": [
    "in_song = \"3s128mpojxjvzyafuFmxmF\" # \"4Dnhkt2b7XZuhRu7cpbu5i\"\n",
    "for obfuscation_type, degrees in obfuscation_types.items():\n",
    "    for ind_degree, degree in enumerate(degrees):\n",
    "        out_song = f\"{in_song}_{names[obfuscation_type]}{ind_degree}\"\n",
    "        transformer = get_transformer(obfuscation_type, degree)\n",
    "        transformer.apply(in_song, INPUT_DIR, out_song, OUTPUT_DIR)"
   ]
  },
  {
   "cell_type": "code",
   "execution_count": null,
   "id": "a3102924",
   "metadata": {},
   "outputs": [],
   "source": []
  },
  {
   "cell_type": "code",
   "execution_count": null,
   "id": "c99d4a12",
   "metadata": {},
   "outputs": [],
   "source": []
  }
 ],
 "metadata": {
  "kernelspec": {
   "display_name": "Python 3 (ipykernel)",
   "language": "python",
   "name": "python3"
  },
  "language_info": {
   "codemirror_mode": {
    "name": "ipython",
    "version": 3
   },
   "file_extension": ".py",
   "mimetype": "text/x-python",
   "name": "python",
   "nbconvert_exporter": "python",
   "pygments_lexer": "ipython3",
   "version": "3.9.18"
  }
 },
 "nbformat": 4,
 "nbformat_minor": 5
}
